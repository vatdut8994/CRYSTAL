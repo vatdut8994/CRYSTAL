{
 "cells": [
  {
   "cell_type": "code",
   "execution_count": 1,
   "metadata": {},
   "outputs": [
    {
     "name": "stdout",
     "output_type": "stream",
     "text": [
      "[['what up', 'what up my boy'], ['whatcha doin', 'None of your beeswax']]\n"
     ]
    }
   ],
   "source": [
    "import json\n",
    "from datetime import datetime\n",
    "\n",
    "version = 3\n",
    "chatId = \"m2cov8y6252887z0hgy\"\n",
    "index = 1\n",
    "\n",
    "query = \"whatcha doin\"\n",
    "response = \"None of your beeswax\"\n",
    "\n",
    "with open(\"/Users/vatsal/Desktop/CRYSTAL-Public/users/yFs0dCRQJLNChFgk5CRleGAhzPFzd41jgGmn9ZBLsd.json\", \"r+\") as file:\n",
    "    data = json.load(file)\n",
    "    chats = data[\"chats\"]\n",
    "    chat_objects = []\n",
    "    history = []\n",
    "\n",
    "    # Select all the versions of the requested chat\n",
    "    for chat in chats:\n",
    "        if chat[\"chatId\"] == chatId:\n",
    "            chat_objects.append(chat)\n",
    "\n",
    "    # Sort the list by last modified\n",
    "    chat_objects.sort(key=lambda x: x[\"lastmodified\"], reverse=True)\n",
    "\n",
    "    # Scan to find the correct version of the chat\n",
    "    for chat in chat_objects:\n",
    "        if int(chat[\"version\"]) == version:\n",
    "            history = chat[\"history\"]\n",
    "\n",
    "    # Register a new chat element to the chat history if no chats are found\n",
    "    if history == []:\n",
    "        prev_obj = chat_objects[0]\n",
    "        prev_history = prev_obj[\"history\"][:index]\n",
    "        prev_history.append([query, response])\n",
    "        history = prev_history\n",
    "        data[\"chats\"].append({\"chatId\": chatId,\n",
    "                              \"chatName\": prev_obj[\"chatName\"],\n",
    "                              \"version\": version,\n",
    "                              \"lastmodified\": str(datetime.now()),\n",
    "                              \"history\": history})\n",
    "    \n",
    "        file.seek(0)\n",
    "        json.dump(data, file, indent=4)\n",
    "        file.truncate()\n",
    "\n",
    "    print(history)"
   ]
  },
  {
   "cell_type": "code",
   "execution_count": 63,
   "metadata": {},
   "outputs": [],
   "source": [
    "prev_history = prev_obj[\"history\"][:index]\n",
    "prev_history.append([query, response])"
   ]
  },
  {
   "cell_type": "code",
   "execution_count": 3,
   "metadata": {},
   "outputs": [
    {
     "data": {
      "text/plain": [
       "{'chatId': 'm2cov8y6252887z0hgy',\n",
       " 'chatName': 'introduction to crystal bot',\n",
       " 'version': '1',\n",
       " 'lastmodified': '2024-12-17 22:43:57.326554',\n",
       " 'history': [[]]}"
      ]
     },
     "execution_count": 3,
     "metadata": {},
     "output_type": "execute_result"
    }
   ],
   "source": [
    "prev_obj = chat_objects[0]\n",
    "prev_obj[\"history\"] = [[]]\n",
    "prev_obj"
   ]
  },
  {
   "cell_type": "code",
   "execution_count": 38,
   "metadata": {},
   "outputs": [
    {
     "data": {
      "text/plain": [
       "'2024-10-17 22:34:26.622821'"
      ]
     },
     "execution_count": 38,
     "metadata": {},
     "output_type": "execute_result"
    }
   ],
   "source": [
    "str(datetime.now())"
   ]
  },
  {
   "cell_type": "code",
   "execution_count": 1,
   "metadata": {},
   "outputs": [
    {
     "name": "stdout",
     "output_type": "stream",
     "text": [
      "Welcome to the chatbot! Type 'exit' to quit.\n"
     ]
    },
    {
     "name": "stdout",
     "output_type": "stream",
     "text": [
      "I didn't quite understand that. Can you please rephrase?\n",
      "Hi, how are you?\n",
      "Hello! How can I assist you today?\n",
      "Good morning! How are you today?\n",
      "Goodbye! It was nice chatting with you.\n",
      "Chat history:\n",
      "{'version': 1, 'idx': 5, 'chat': [['', \"I didn't quite understand that. Can you please rephrase?\"], ['hello', 'Hi, how are you?'], ['hi', 'Hello! How can I assist you today?'], ['good morning', 'Good morning! How are you today?'], ['exit', 'Goodbye! It was nice chatting with you.']]}\n"
     ]
    }
   ],
   "source": [
    "# Define a dictionary of hard-coded responses\n",
    "responses = {\n",
    "    \"hello\": \"Hi, how are you?\",\n",
    "    \"hi\": \"Hello! How can I assist you today?\",\n",
    "    \"how are you\": \"I'm doing great, thanks! How about you?\",\n",
    "    \"what's your name\": \"My name is CRYSTAL, nice to meet you!\",\n",
    "    \"exit\": \"Goodbye! It was nice chatting with you.\",\n",
    "    \"default\": \"I didn't quite understand that. Can you please rephrase?\",\n",
    "    \"goodbye\": \"See you later! It was nice chatting with you.\",\n",
    "    \"thanks\": \"You're welcome!\",\n",
    "    \"thank you\": \"You're welcome!\",\n",
    "    \"good morning\": \"Good morning! How are you today?\",\n",
    "    \"good afternoon\": \"Good afternoon! How's your day going?\",\n",
    "    \"good evening\": \"Good evening! How was your day?\",\n",
    "}\n",
    "\n",
    "# Initialize the chat dictionary\n",
    "chat_dict = {\"version\": 1, \"idx\": 0, \"chat\": []}\n",
    "\n",
    "def get_response(user_input):\n",
    "    # Convert user input to lowercase for easier matching\n",
    "    user_input = user_input.lower()\n",
    "    \n",
    "    # Check if the user input matches any of the hard-coded responses\n",
    "    for key in responses:\n",
    "        if key in user_input:\n",
    "            return responses[key]\n",
    "    \n",
    "    # If no match is found, return the default response\n",
    "    return responses[\"default\"]\n",
    "\n",
    "def chatbot():\n",
    "    print(\"Welcome to the chatbot! Type 'exit' to quit.\")\n",
    "    \n",
    "    while True:\n",
    "        user_input = input(\"> \")\n",
    "        response = get_response(user_input)\n",
    "        \n",
    "        # Add the user input and response to the chat dictionary\n",
    "        chat_dict[\"chat\"].append([user_input, response])\n",
    "        chat_dict[\"idx\"] += 1\n",
    "        \n",
    "        print(response)\n",
    "        \n",
    "        if user_input.lower() == \"exit\":\n",
    "            break\n",
    "\n",
    "# Start the chatbot\n",
    "chatbot()\n",
    "\n",
    "# Print the chat dictionary at the end\n",
    "print(\"Chat history:\")\n",
    "print(chat_dict)\n"
   ]
  },
  {
   "cell_type": "code",
   "execution_count": null,
   "metadata": {},
   "outputs": [],
   "source": []
  }
 ],
 "metadata": {
  "kernelspec": {
   "display_name": "venv",
   "language": "python",
   "name": "python3"
  },
  "language_info": {
   "codemirror_mode": {
    "name": "ipython",
    "version": 3
   },
   "file_extension": ".py",
   "mimetype": "text/x-python",
   "name": "python",
   "nbconvert_exporter": "python",
   "pygments_lexer": "ipython3",
   "version": "3.12.5"
  }
 },
 "nbformat": 4,
 "nbformat_minor": 2
}
